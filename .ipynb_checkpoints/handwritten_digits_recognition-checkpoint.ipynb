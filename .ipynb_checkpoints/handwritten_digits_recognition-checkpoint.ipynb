{
 "cells": [
  {
   "cell_type": "markdown",
   "metadata": {},
   "source": [
    "# Simple Handwritten Digit Recognition Neural Network\n",
    "\n",
    "## Brief introduction\n",
    "\n",
    "#### A neural network is a network that consists of a input layer, hidden layer (middle layer) and the output layer. The input layer takes in the input (images, files, audio, video etc), passes it to the hidden layer where come processing/learning is done and passed to the output layer for results.\n",
    "\n",
    "##### This notebook aims to explain simply how the neural network performs its task.  Its important to note that the neural network decides on the output of a result based on the weights of the input passed to the hidden and then output layer. In other words, if the weight of an input node is very low, the output would likely be low.\n",
    "\n",
    "##### Take a moment to think about this: assume you are in a group of 3 friends and you are want to show much you love your 3rd friend. Now  let's say you are the first friend, your second friend, Jay is the messenger or channel of communication between you and your 3rd friend, Lola. You really wanna appreciate Lola but you have to tell it through Jay.\n",
    "\n",
    "##### It means you are the input node(s), Jay is the hidden/middle node and Lola is the output node. Let's say you made a casual whisper to Jay to inform Lola you love her. Jay is reluctant but goes on to say it to Lola. Its easy for Lola to smile and discard it - meaning the output was not strong enough. Let's assume you call Jay to a corner and tell him with all seriousness that you love Lola and that he should tell Lola the same say you told him. Jay did exactly what you told him. Lola would likely take it more seriously put into consideration. She might even reply telling you she loves you too. The words you said are the input, the whispered word has small weight - its not really weighty. While the seriousness you added to the corner talk had more weight in shaping Lola's response. \n",
    "\n",
    "##### This is explains the basics of how neural network works. Its takes the product of the input from each layer multiplies it by the weight to give an output.\n",
    "\n",
    "##### Tweaking it a little. Let's assume Jay told Lola that you \"like\" her instead of \"love\". That's an error. You had it mind that he would tell Lola with all seriousness that you love her but he said like. What you had in mind was an intended output (your target) while what Jay said was the actual output - what he did. Mathematically we can calculate this as output error = intended output - actual output.\n",
    "\n",
    "##### Futhermore, we can moderate this output error by including a learning rate. Lets assume this learning rate is a figure that we multiply with the output error to reduce it so that when next we tell Jay to speak with Lola, the error is reduced. We use this learning rate each time we want to communicate, as a moderator.\n",
    "\n",
    "##### Finally, lets assume that Lola has a level or threshold that must be met before she takes people's word into consideration. I mean, there's a level of seriousness that must displayed for her to believe the speaker. Mathematically, this level of seriousness is called the activation/sigmoid/logistic function. So it means, Jay must meet that level for her to believe him. Trust me, we all have it. So it means even for you & Jay, there's a level of seriousness or trust that must be overcome before you believe people. Putting this into the neural network, all layers (input, hidden & output layers) have an activation function that takes in the previous input to provide an output.\n",
    "\n",
    "##### Before we wrap up, do you know we can improve the output by increasing the number of times give Jay our message to Lola. If we see that Lola's output was way below the intended result, we can call Jay to the corner again to tell him the same message to tell Lola with the hope that it would improve Lola's output and minimize Jay's error. The number of times we relay our message (input) is called an epoch. We can have 5 epochs so as to improve our output. The process of relaying the message is called training - lets just say we are training our network to improve the output.\n",
    "\n",
    "#### Lets make a recap:\n",
    "##### Input layer: this is the entrance of the neural network \n",
    "##### Hidden layer: the is where the communcation (learning) happens\n",
    "##### Output layer: this is where the results \n",
    "##### Output error: intended output - actual error\n",
    "##### Learning rate: moderating factor used to minimise the error\n",
    "##### Activation function: threshold that must be overcome for an input to move to the next layer. It takes in the input at every layer.\n",
    "##### Epoch: number of times a training is carried out\n",
    "\n",
    "##### Putting it all together, a neural network is a combines the inputs, learning rate, weights, errors and the activation function to give us the output.\n",
    "\n",
    "##### Now to the codes!"
   ]
  },
  {
   "cell_type": "code",
   "execution_count": 0,
   "metadata": {
    "colab": {},
    "colab_type": "code",
    "id": "bsdqwRfvvkUD"
   },
   "outputs": [],
   "source": [
    "# import libraries\n",
    "\n",
    "import numpy as np\n",
    "import scipy.special"
   ]
  },
  {
   "cell_type": "markdown",
   "metadata": {},
   "source": [
    "##### We create a class called neuralNetwork with 3 functions: init, train, query\n",
    "##### init is to initialize the class and define our variables: inputnodes, outputnodes, hiddennodes & learning rate"
   ]
  },
  {
   "cell_type": "code",
   "execution_count": 0,
   "metadata": {
    "colab": {},
    "colab_type": "code",
    "id": "TfaEve8JvyLf"
   },
   "outputs": [],
   "source": [
    "class neuralNetwork():\n",
    "    def __init__(self, inodes, onodes, hnodes, lrate):\n",
    "        # creating the input, output, hidden nodes & learning rate\n",
    "        self.inodes = inodes\n",
    "        self.onodes = onodes\n",
    "        self.hnodes = hnodes\n",
    "        self.lrate = lrate\n",
    "\n",
    "        # randomly creates weight to the hidden layer from the input layer\n",
    "        self.whi = np.random.normal(0.0, pow(self.hnodes, -0.5), (self.inodes, self.hnodes))\n",
    "        # randomly creates weight to the output layer from the hidden layer\n",
    "        self.who = np.random.normal(0.0, pow(self.hnodes, -0.5), (self.hnodes, self.onodes))\n",
    "        # activation function\n",
    "        self.activ_funct = lambda x: scipy.special.expit(x)\n",
    "        pass"
   ]
  },
  {
   "cell_type": "markdown",
   "metadata": {},
   "source": [
    "##### The train function takes in the input (input_list) and the intended output (targets_lists) and then use the activation function to calculate the output. This output will be included in the multiplication with the learning rate & errors."
   ]
  },
  {
   "cell_type": "code",
   "execution_count": 0,
   "metadata": {
    "colab": {},
    "colab_type": "code",
    "id": "rI7CGPCLv3uq"
   },
   "outputs": [],
   "source": [
    "    def train(self, inputs_lists, targets_lists):\n",
    "        # converts inputs and targets to array\n",
    "        inputs = np.array(inputs_lists, ndmin=2).T\n",
    "        targets = np.array(targets_lists, ndmin=2).T\n",
    "\n",
    "        # calculate the input & output for the hidden layer - np.dot is used for multiplying matrices\n",
    "        hidden_inputs = np.dot(self.whi, inputs)\n",
    "        hidden_outputs = self.activ_funct(hidden_inputs)\n",
    "\n",
    "        # calculate the input & output for the final layer\n",
    "        final_inputs = np.dot(self.who, hidden_outputs)\n",
    "        final_outputs = self.activ_funct(final_inputs)\n",
    "\n",
    "        # calculating the output errors\n",
    "        output_errors = targets - final_outputs\n",
    "\n",
    "        # calculating errors at the hidden layers from the outputs\n",
    "        hidden_errors = np.dot(self.who.T, output_errors)\n",
    "\n",
    "        # calculating weight change from the output to the hidden layer\n",
    "        self.who += self.lrate * np.dot(final_outputs * output_errors * (1.0 - final_outputs), np.transpose(hidden_outputs))\n",
    "        # calculating weight change from the input to the hidden layer\n",
    "        self.whi += self.lrate * np.dot(hidden_outputs * hidden_errors * (1.0 - hidden_outputs), np.transpose(inputs))\n",
    "        pass"
   ]
  },
  {
   "cell_type": "markdown",
   "metadata": {},
   "source": [
    "##### the query function is simply to get our results."
   ]
  },
  {
   "cell_type": "code",
   "execution_count": 0,
   "metadata": {
    "colab": {},
    "colab_type": "code",
    "id": "hU_dKCzfv8ex"
   },
   "outputs": [],
   "source": [
    "    def query(self, inputs_lists):\n",
    "        # converts list to 2D array\n",
    "        inputs = np.array(inputs_lists, ndmin=2).T\n",
    "\n",
    "        # finding the input & output to the hidden layers\n",
    "        hidden_inputs = np.dot(self.whi, inputs)\n",
    "        hidden_outputs = self.activ_funct(hidden_inputs)\n",
    "\n",
    "        # finding the input & output to the hidden layers\n",
    "        final_inputs = np.dot(self.who, hidden_outputs)\n",
    "        final_outputs = self.activ_funct(final_inputs)\n",
    "\n",
    "        return final_outputs"
   ]
  },
  {
   "cell_type": "markdown",
   "metadata": {},
   "source": [
    "##### Now lets train the network with a real data set what contains images of handwritten digits."
   ]
  },
  {
   "cell_type": "code",
   "execution_count": 0,
   "metadata": {
    "colab": {},
    "colab_type": "code",
    "id": "9Ryn903OwEic"
   },
   "outputs": [],
   "source": [
    "# ---------- Training the network ----------\n",
    "# provide values for the nodes & learning rate\n",
    "\n",
    "inodes = 784\n",
    "hnodes = 100\n",
    "onodes = 10\n",
    "lrate = 0.3\n",
    "\n",
    "# create instance for the neural network\n",
    "n = neuralNetwork(inodes, onodes, hnodes, lrate)\n",
    "\n",
    "# function that reads file\n",
    "def convert_file(csvfile):\n",
    "    # reads the csv file\n",
    "    f = open(csvfile, \"r\")\n",
    "    inputfile = f.readlines()\n",
    "    f.close()\n",
    "    # converts from string to real numbers then scales the valuesx\n",
    "    return inputfile\n",
    "\n",
    "\n",
    "trainingFile = convert_file(\"mnist_train_100.csv\") \n",
    "\n",
    "for item in trainingFile:\n",
    "    split_training = item.split(',')\n",
    "    \n",
    "    # scaling the data i.e adjusting all values to be between 0.01 & 0.99\n",
    "    inputs = (np.asfarray(split_training[1:])/255 * 0.99) + 0.01\n",
    "    \n",
    "    # np.zeros convert all inputs to 0. Added 0.01 so that our output would not give zeros during multiplication\n",
    "    targets = np.zeros(onodes) + 0.01\n",
    "    targets[int(split_training[0])] = 0.99\n",
    "    \n",
    "    # calling the train function we defined earlier\n",
    "    n.train(inputs, targets)\n",
    "pass"
   ]
  },
  {
   "cell_type": "code",
   "execution_count": 0,
   "metadata": {
    "colab": {},
    "colab_type": "code",
    "id": "XWP8ikPS3USj"
   },
   "outputs": [],
   "source": [
    "# ------ Testing the network -------\n",
    "\n",
    "# load the test data\n",
    "testingFile = convert_file(\"mnist_test_10.csv\")\n",
    "\n",
    "for item in testingFile:\n",
    "    split_test = item.split(',')\n",
    "    \n",
    "    # scaling the data i.e adjusting all values to be between 0.01 & 0.99\n",
    "    inputs = (np.asfarray(split_test[1:])/255 * 0.99) + 0.01\n",
    "    \n",
    "    # setting the input as 'correct label'\n",
    "    correct_label = int(split_test[0])\n",
    "    print(correct_label, \"correct label\")\n",
    "    \n",
    "    # calling the query function we defined earlier\n",
    "    outputs = n.query(inputs)\n",
    "    \n",
    "    # setting the output as 'label'\n",
    "    label = np.argmax(outputs)\n",
    "    print(label, \"network's result\")\n",
    "    \n",
    "    # creates a scorecard to measure results.\n",
    "    scorecard = []\n",
    "    if(label == correct_label):\n",
    "        scorecard.append(1)\n",
    "    else:\n",
    "        scorecard.append(0)\n",
    "    print(scorecard)\n",
    "pass"
   ]
  }
 ],
 "metadata": {
  "colab": {
   "collapsed_sections": [],
   "name": "imageRecognition.ipynb",
   "provenance": [],
   "version": "0.3.2"
  },
  "kernelspec": {
   "display_name": "Python 3",
   "language": "python",
   "name": "python3"
  },
  "language_info": {
   "codemirror_mode": {
    "name": "ipython",
    "version": 3
   },
   "file_extension": ".py",
   "mimetype": "text/x-python",
   "name": "python",
   "nbconvert_exporter": "python",
   "pygments_lexer": "ipython3",
   "version": "3.6.5"
  }
 },
 "nbformat": 4,
 "nbformat_minor": 1
}
