{
 "cells": [
  {
   "cell_type": "code",
   "execution_count": 1,
   "metadata": {},
   "outputs": [
    {
     "name": "stdout",
     "output_type": "stream",
     "text": [
      "Collecting kaggle-cli\n",
      "  Downloading https://files.pythonhosted.org/packages/67/61/710d02460bc4367ffd1f5e71cd9c031fb278f78aa0e8e32ca9dd99a2add8/kaggle-cli-0.12.13.tar.gz\n",
      "Collecting cliff<2.9,>=2.8.0 (from kaggle-cli)\n",
      "  Downloading https://files.pythonhosted.org/packages/c2/ba/f45621f885ecd8527142811c279740367eb6c552ceb8debfdb7c5fca0677/cliff-2.8.2.tar.gz (72kB)\n",
      "Collecting MechanicalSoup<0.9,>=0.7.0 (from kaggle-cli)\n",
      "  Downloading https://files.pythonhosted.org/packages/5c/2e/f63ed26b51e36efa4cc22cad18187fcb0a253f756d548c96bb931f13de98/MechanicalSoup-0.8.0-py2.py3-none-any.whl\n",
      "Collecting lxml<4.1,>=4.0.0 (from kaggle-cli)\n",
      "  Downloading https://files.pythonhosted.org/packages/fb/51/f35faad90e455111327b84358fab9ff64ca3c83420714b2ae68159b1f3ac/lxml-4.0.0-cp36-cp36m-win_amd64.whl (3.5MB)\n",
      "Collecting cssselect<1.1,>=1.0.1 (from kaggle-cli)\n",
      "  Downloading https://files.pythonhosted.org/packages/7b/44/25b7283e50585f0b4156960691d951b05d061abf4a714078393e51929b30/cssselect-1.0.3-py2.py3-none-any.whl\n",
      "Collecting configparser (from kaggle-cli)\n",
      "  Downloading https://files.pythonhosted.org/packages/7c/69/c2ce7e91c89dc073eb1aa74c0621c3eefbffe8216b3f9af9d3885265c01c/configparser-3.5.0.tar.gz\n",
      "Collecting progressbar2<3.35,>=3.34.3 (from kaggle-cli)\n",
      "  Downloading https://files.pythonhosted.org/packages/87/31/b984e17bcc7491c1baeda3906fe3abc14cb5cd5dbd046ab46d9fc7a2edfd/progressbar2-3.34.3-py2.py3-none-any.whl\n",
      "Requirement already satisfied: beautifulsoup4<4.7,>=4.6.0 in c:\\programdata\\anaconda3\\lib\\site-packages (from kaggle-cli) (4.6.0)\n",
      "Collecting pbr!=2.1.0,>=2.0.0 (from cliff<2.9,>=2.8.0->kaggle-cli)\n",
      "  Downloading https://files.pythonhosted.org/packages/69/1c/98cba002ed975a91a0294863d9c774cc0ebe38e05bbb65e83314550b1677/pbr-4.2.0-py2.py3-none-any.whl (100kB)\n",
      "Collecting cmd2>=0.6.7 (from cliff<2.9,>=2.8.0->kaggle-cli)\n",
      "  Downloading https://files.pythonhosted.org/packages/4c/72/8d6638256ae3eea143d94239e98c94d68a8453a226a0cf25a0cc306a7dd5/cmd2-0.9.4-py3-none-any.whl (75kB)\n",
      "Collecting PrettyTable<0.8,>=0.7.1 (from cliff<2.9,>=2.8.0->kaggle-cli)\n",
      "  Downloading https://files.pythonhosted.org/packages/ef/30/4b0746848746ed5941f052479e7c23d2b56d174b82f4fd34a25e389831f5/prettytable-0.7.2.tar.bz2\n",
      "Requirement already satisfied: pyparsing>=2.1.0 in c:\\programdata\\anaconda3\\lib\\site-packages (from cliff<2.9,>=2.8.0->kaggle-cli) (2.2.0)\n",
      "Requirement already satisfied: six>=1.9.0 in c:\\programdata\\anaconda3\\lib\\site-packages (from cliff<2.9,>=2.8.0->kaggle-cli) (1.11.0)\n",
      "Collecting stevedore>=1.20.0 (from cliff<2.9,>=2.8.0->kaggle-cli)\n",
      "  Downloading https://files.pythonhosted.org/packages/a1/d9/93a975469c53a9ee85de9ec0deb12345aa777748b4c263860668592344fe/stevedore-1.29.0-py2.py3-none-any.whl\n",
      "Requirement already satisfied: PyYAML>=3.10.0 in c:\\programdata\\anaconda3\\lib\\site-packages (from cliff<2.9,>=2.8.0->kaggle-cli) (3.12)\n",
      "Requirement already satisfied: requests>=2.0 in c:\\programdata\\anaconda3\\lib\\site-packages (from MechanicalSoup<0.9,>=0.7.0->kaggle-cli) (2.18.4)\n",
      "Collecting python-utils>=2.1.0 (from progressbar2<3.35,>=3.34.3->kaggle-cli)\n",
      "  Downloading https://files.pythonhosted.org/packages/eb/a0/19119d8b7c05be49baf6c593f11c432d571b70d805f2fe94c0585e55e4c8/python_utils-2.3.0-py2.py3-none-any.whl\n",
      "Requirement already satisfied: pyreadline; sys_platform == \"win32\" in c:\\programdata\\anaconda3\\lib\\site-packages (from cmd2>=0.6.7->cliff<2.9,>=2.8.0->kaggle-cli) (2.1)\n",
      "Collecting pyperclip>=1.5.27 (from cmd2>=0.6.7->cliff<2.9,>=2.8.0->kaggle-cli)\n",
      "  Downloading https://files.pythonhosted.org/packages/2d/9a/23059a00dfd52eb700bd03c4ee3a6954cae60827539c3488026c8742a555/pyperclip-1.6.4.tar.gz\n",
      "Requirement already satisfied: colorama in c:\\programdata\\anaconda3\\lib\\site-packages (from cmd2>=0.6.7->cliff<2.9,>=2.8.0->kaggle-cli) (0.3.9)\n",
      "Requirement already satisfied: attrs in c:\\programdata\\anaconda3\\lib\\site-packages (from cmd2>=0.6.7->cliff<2.9,>=2.8.0->kaggle-cli) (17.4.0)\n",
      "Requirement already satisfied: chardet<3.1.0,>=3.0.2 in c:\\programdata\\anaconda3\\lib\\site-packages (from requests>=2.0->MechanicalSoup<0.9,>=0.7.0->kaggle-cli) (3.0.4)\n",
      "Requirement already satisfied: idna<2.7,>=2.5 in c:\\programdata\\anaconda3\\lib\\site-packages (from requests>=2.0->MechanicalSoup<0.9,>=0.7.0->kaggle-cli) (2.6)\n",
      "Requirement already satisfied: urllib3<1.23,>=1.21.1 in c:\\programdata\\anaconda3\\lib\\site-packages (from requests>=2.0->MechanicalSoup<0.9,>=0.7.0->kaggle-cli) (1.22)\n",
      "Requirement already satisfied: certifi>=2017.4.17 in c:\\programdata\\anaconda3\\lib\\site-packages (from requests>=2.0->MechanicalSoup<0.9,>=0.7.0->kaggle-cli) (2018.8.13)\n",
      "Building wheels for collected packages: kaggle-cli, cliff, configparser, PrettyTable, pyperclip\n",
      "  Running setup.py bdist_wheel for kaggle-cli: started\n",
      "  Running setup.py bdist_wheel for kaggle-cli: finished with status 'done'\n",
      "  Stored in directory: C:\\Users\\Ahmed Olanrewaju\\AppData\\Local\\pip\\Cache\\wheels\\d5\\bb\\10\\c1dd1b08c7433c943cb55c46367ae3f891415e8a37300ff8a7\n",
      "  Running setup.py bdist_wheel for cliff: started\n",
      "  Running setup.py bdist_wheel for cliff: finished with status 'done'\n",
      "  Stored in directory: C:\\Users\\Ahmed Olanrewaju\\AppData\\Local\\pip\\Cache\\wheels\\02\\22\\09\\66f8c243f9c68dee7e6456a0fd6c117439a64394fdaf02d965\n",
      "  Running setup.py bdist_wheel for configparser: started\n",
      "  Running setup.py bdist_wheel for configparser: finished with status 'done'\n",
      "  Stored in directory: C:\\Users\\Ahmed Olanrewaju\\AppData\\Local\\pip\\Cache\\wheels\\a3\\61\\79\\424ef897a2f3b14684a7de5d89e8600b460b89663e6ce9d17c\n",
      "  Running setup.py bdist_wheel for PrettyTable: started\n",
      "  Running setup.py bdist_wheel for PrettyTable: finished with status 'done'\n",
      "  Stored in directory: C:\\Users\\Ahmed Olanrewaju\\AppData\\Local\\pip\\Cache\\wheels\\80\\34\\1c\\3967380d9676d162cb59513bd9dc862d0584e045a162095606\n",
      "  Running setup.py bdist_wheel for pyperclip: started\n",
      "  Running setup.py bdist_wheel for pyperclip: finished with status 'done'\n",
      "  Stored in directory: C:\\Users\\Ahmed Olanrewaju\\AppData\\Local\\pip\\Cache\\wheels\\73\\8c\\77\\a973e2fbf4808af077582b1740b4cbf9e100262da0166e90d8\n",
      "Successfully built kaggle-cli cliff configparser PrettyTable pyperclip\n",
      "Installing collected packages: pbr, pyperclip, cmd2, PrettyTable, stevedore, cliff, MechanicalSoup, lxml, cssselect, configparser, python-utils, progressbar2, kaggle-cli\n",
      "  Found existing installation: lxml 4.1.1\n",
      "    Uninstalling lxml-4.1.1:\n",
      "      Successfully uninstalled lxml-4.1.1\n",
      "Successfully installed MechanicalSoup-0.8.0 PrettyTable-0.7.2 cliff-2.8.2 cmd2-0.9.4 configparser-3.5.0 cssselect-1.0.3 kaggle-cli-0.12.13 lxml-4.0.0 pbr-4.2.0 progressbar2-3.34.3 pyperclip-1.6.4 python-utils-2.3.0 stevedore-1.29.0\n"
     ]
    },
    {
     "name": "stderr",
     "output_type": "stream",
     "text": [
      "You are using pip version 10.0.1, however version 18.0 is available.\n",
      "You should consider upgrading via the 'python -m pip install --upgrade pip' command.\n"
     ]
    }
   ],
   "source": [
    "#Install kaggle-cli to have access to kaggle\n",
    "!pip install kaggle-cli"
   ]
  },
  {
   "cell_type": "code",
   "execution_count": null,
   "metadata": {},
   "outputs": [],
   "source": [
    "\n",
    "!kg download  -u abono2000@gmail.com -p @Ahmad200 -c dsn2018selection\n",
    "\n",
    "#kg download -u <username> -p <password> -c <competition>\n",
    "#Access the kaggle file from google"
   ]
  },
  {
   "cell_type": "code",
   "execution_count": null,
   "metadata": {},
   "outputs": [],
   "source": [
    "# Unzipping files in python\n",
    "import zipfile\n",
    "path_to_zip_file = 'train.zip'\n",
    "directory_to_extract_to ='train'\n",
    "zip_ref = zipfile.ZipFile(path_to_zip_file, 'r')\n",
    "zip_ref.extractall(directory_to_extract_to)\n",
    "zip_ref.close()"
   ]
  },
  {
   "cell_type": "code",
   "execution_count": null,
   "metadata": {},
   "outputs": [],
   "source": [
    "# Unzipping files in python\n",
    "import zipfile\n",
    "path_to_zip_file = 'test.zip'\n",
    "directory_to_extract_to ='test'\n",
    "zip_ref = zipfile.ZipFile(path_to_zip_file, 'r')\n",
    "zip_ref.extractall(directory_to_extract_to)\n",
    "zip_ref.close()"
   ]
  },
  {
   "cell_type": "code",
   "execution_count": null,
   "metadata": {},
   "outputs": [],
   "source": [
    "!unzip train.zip\n",
    "!unzip test.zip"
   ]
  },
  {
   "cell_type": "code",
   "execution_count": null,
   "metadata": {},
   "outputs": [],
   "source": [
    "!ls"
   ]
  },
  {
   "cell_type": "code",
   "execution_count": null,
   "metadata": {},
   "outputs": [],
   "source": [
    "#Install Catbooster\n",
    "!pip install catboost"
   ]
  },
  {
   "cell_type": "code",
   "execution_count": null,
   "metadata": {},
   "outputs": [],
   "source": [
    "!pip install xgboost"
   ]
  },
  {
   "cell_type": "code",
   "execution_count": null,
   "metadata": {},
   "outputs": [],
   "source": [
    "!pip install lightgbm"
   ]
  },
  {
   "cell_type": "code",
   "execution_count": null,
   "metadata": {},
   "outputs": [],
   "source": [
    "import pandas as pd\n",
    "import numpy as np\n",
    "import seaborn as sns\n",
    "import matplotlib.pyplot as plt\n",
    "#import sklearn.preproces\n",
    "%matplotlib inline"
   ]
  },
  {
   "cell_type": "code",
   "execution_count": null,
   "metadata": {},
   "outputs": [],
   "source": [
    "comedyTrain = pd.read_csv(\"train.csv\")"
   ]
  },
  {
   "cell_type": "code",
   "execution_count": null,
   "metadata": {},
   "outputs": [],
   "source": [
    "comedyTrain.head()"
   ]
  },
  {
   "cell_type": "code",
   "execution_count": null,
   "metadata": {},
   "outputs": [],
   "source": [
    "comedyTrain.shape"
   ]
  },
  {
   "cell_type": "code",
   "execution_count": null,
   "metadata": {},
   "outputs": [],
   "source": [
    "import xgboost as xgb\n",
    "import catboost as cat"
   ]
  },
  {
   "cell_type": "code",
   "execution_count": null,
   "metadata": {},
   "outputs": [],
   "source": [
    "from sklearn.cross_validation import train_test_split\n",
    "from sklearn.metrics import precision_score"
   ]
  },
  {
   "cell_type": "code",
   "execution_count": null,
   "metadata": {},
   "outputs": [],
   "source": [
    "comedyTest = pd.read_csv(\"test.csv\")\n",
    "comedyTest.head()"
   ]
  },
  {
   "cell_type": "code",
   "execution_count": null,
   "metadata": {},
   "outputs": [],
   "source": [
    "X = comedyTrain.drop(['Rating'], axis=1)\n",
    "y = comedyTrain.Rating\n",
    "X_train, X_test, y_train, y_test = train_test_split(X, y, train_size=0.7, random_state=1234)"
   ]
  },
  {
   "cell_type": "code",
   "execution_count": null,
   "metadata": {},
   "outputs": [],
   "source": [
    "X_train.dtypes"
   ]
  },
  {
   "cell_type": "code",
   "execution_count": null,
   "metadata": {},
   "outputs": [],
   "source": [
    "!pip install ipywidgets"
   ]
  },
  {
   "cell_type": "code",
   "execution_count": null,
   "metadata": {},
   "outputs": [],
   "source": [
    "X_train.isnull().sum()"
   ]
  },
  {
   "cell_type": "code",
   "execution_count": null,
   "metadata": {},
   "outputs": [],
   "source": [
    "categorical_features_indices = np.where(comedyTrain.dtypes != np.float)[0]\n",
    "print(categorical_features_indices)"
   ]
  },
  {
   "cell_type": "code",
   "execution_count": null,
   "metadata": {},
   "outputs": [],
   "source": [
    "import ipywidgets\n",
    "from catboost import CatBoostRegressor"
   ]
  },
  {
   "cell_type": "code",
   "execution_count": null,
   "metadata": {},
   "outputs": [],
   "source": [
    "model=CatBoostRegressor(iterations=400, depth=10, learning_rate=0.01, loss_function='RMSE')\n",
    "model.fit(X_train, y_train, cat_features=categorical_features_indices, eval_set=(X_test, y_test), plot=True)"
   ]
  },
  {
   "cell_type": "code",
   "execution_count": null,
   "metadata": {},
   "outputs": [],
   "source": [
    "Submission = pd.read_csv(\"SampleSubmission.csv\")"
   ]
  },
  {
   "cell_type": "code",
   "execution_count": null,
   "metadata": {},
   "outputs": [],
   "source": [
    "print(Submission.head())\n",
    "comedyTest.head()"
   ]
  },
  {
   "cell_type": "code",
   "execution_count": null,
   "metadata": {},
   "outputs": [],
   "source": [
    "print(Submission.shape)\n",
    "print(comedyTest.shape)"
   ]
  },
  {
   "cell_type": "code",
   "execution_count": null,
   "metadata": {},
   "outputs": [],
   "source": [
    "submission = pd.DataFrame()\n",
    "submission['Response_ID'] = comedyTest['Response_ID']\n",
    "submission['Rating'] = model.predict(comedyTest)\n"
   ]
  },
  {
   "cell_type": "code",
   "execution_count": null,
   "metadata": {},
   "outputs": [],
   "source": [
    "submission.to_csv(\"Submission1.csv\")"
   ]
  },
  {
   "cell_type": "code",
   "execution_count": null,
   "metadata": {},
   "outputs": [],
   "source": [
    "!ls"
   ]
  },
  {
   "cell_type": "code",
   "execution_count": null,
   "metadata": {},
   "outputs": [],
   "source": [
    "#To download files to google drivr\n",
    "# Install the PyDrive wrapper & import libraries.\n",
    "# This only needs to be done once in a notebook.\n",
    "!pip install -U -q PyDrive\n",
    "from pydrive.auth import GoogleAuth\n",
    "from pydrive.drive import GoogleDrive\n",
    "from google.colab import auth\n",
    "from oauth2client.client import GoogleCredentials\n",
    "\n",
    "# Authenticate and create the PyDrive client.\n",
    "# This only needs to be done once in a notebook.\n",
    "auth.authenticate_user()\n",
    "gauth = GoogleAuth()\n",
    "gauth.credentials = GoogleCredentials.get_application_default()\n",
    "drive = GoogleDrive(gauth)\n",
    "\n",
    "# Create & upload a file.\n",
    "uploaded = drive.CreateFile({'title': 'Submission1.csv'})\n",
    "uploaded.SetContentFile('Submission1.csv')\n",
    "uploaded.Upload()\n",
    "print('Uploaded file with ID {}'.format(uploaded.get('id')))"
   ]
  },
  {
   "cell_type": "code",
   "execution_count": null,
   "metadata": {},
   "outputs": [],
   "source": [
    "submission.shape"
   ]
  },
  {
   "cell_type": "code",
   "execution_count": null,
   "metadata": {},
   "outputs": [],
   "source": [
    "submission.head()"
   ]
  }
 ],
 "metadata": {
  "kernelspec": {
   "display_name": "Python 3",
   "language": "python",
   "name": "python3"
  },
  "language_info": {
   "codemirror_mode": {
    "name": "ipython",
    "version": 3
   },
   "file_extension": ".py",
   "mimetype": "text/x-python",
   "name": "python",
   "nbconvert_exporter": "python",
   "pygments_lexer": "ipython3",
   "version": "3.6.5"
  }
 },
 "nbformat": 4,
 "nbformat_minor": 2
}
